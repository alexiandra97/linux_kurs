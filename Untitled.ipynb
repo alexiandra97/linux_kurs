{
 "cells": [
  {
   "cell_type": "markdown",
   "id": "26f1a249",
   "metadata": {},
   "source": [
    "# Vežba SARS-COV-2"
   ]
  },
  {
   "cell_type": "markdown",
   "id": "5444b721",
   "metadata": {},
   "source": [
    "Ispod se nalazi kod koji ćemo koristiti na obuci Uvod u Linux u toku sledeće nedelje (utorak, sreda, petak).\n",
    "\n",
    "<b> <font color='blue'>Plavom bojom </font> su označeni delovi koda koji treba da se zamene odgovarajućim fajlom. </b>"
   ]
  },
  {
   "cell_type": "markdown",
   "id": "b62cae14",
   "metadata": {},
   "source": [
    "## Fastqc"
   ]
  },
  {
   "cell_type": "code",
   "execution_count": null,
   "id": "c3ab1950",
   "metadata": {},
   "outputs": [],
   "source": [
    "fastqc -o reports -t 2 <fastq fajl>"
   ]
  },
  {
   "cell_type": "code",
   "execution_count": null,
   "id": "0ec08e9c",
   "metadata": {},
   "outputs": [],
   "source": [
    " "
   ]
  }
 ],
 "metadata": {
  "kernelspec": {
   "display_name": "Python 3 (ipykernel)",
   "language": "python",
   "name": "python3"
  },
  "language_info": {
   "codemirror_mode": {
    "name": "ipython",
    "version": 3
   },
   "file_extension": ".py",
   "mimetype": "text/x-python",
   "name": "python",
   "nbconvert_exporter": "python",
   "pygments_lexer": "ipython3",
   "version": "3.13.0"
  }
 },
 "nbformat": 4,
 "nbformat_minor": 5
}
